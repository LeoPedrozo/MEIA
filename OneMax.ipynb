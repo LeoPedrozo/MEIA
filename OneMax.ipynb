{
  "nbformat": 4,
  "nbformat_minor": 0,
  "metadata": {
    "colab": {
      "provenance": [],
      "authorship_tag": "ABX9TyPsGxXubcgt57yei20G7Y45",
      "include_colab_link": true
    },
    "kernelspec": {
      "name": "python3",
      "display_name": "Python 3"
    },
    "language_info": {
      "name": "python"
    }
  },
  "cells": [
    {
      "cell_type": "markdown",
      "metadata": {
        "id": "view-in-github",
        "colab_type": "text"
      },
      "source": [
        "<a href=\"https://colab.research.google.com/github/LeoPedrozo/MEIA/blob/main/OneMax.ipynb\" target=\"_parent\"><img src=\"https://colab.research.google.com/assets/colab-badge.svg\" alt=\"Open In Colab\"/></a>"
      ]
    },
    {
      "cell_type": "markdown",
      "source": [
        "Codigo original disponible en : https://github.com/aoaunam/introDEAP/blob/master/OneMax.ipynb\n",
        "\n"
      ],
      "metadata": {
        "id": "I3HpL6qKMIHw"
      }
    },
    {
      "cell_type": "markdown",
      "source": [
        "# Problema OneMax\n",
        "El problema OneMax es una tarea de optimización simple que a menudo se usa como\n",
        "el \"Hello World\" de los Framework de algoritmos genéticos. La tarea de OneMax es encontrar la cadena binaria de una longitud dada que maximiza la suma de sus dígitos. Por ejemplo, el problema OneMax de longitud 5 considerará candidatos como los siguientes:\n",
        "\n",
        "11010 (suma de dígitos = 3), 00110 (suma de dígitos = 2), 11111 (suma de dígitos = 5)\n",
        "\n",
        "## Módulos requeridos para nuestra evolución.\n",
        "- **random** nos da una forma de generar bits aleatorios;\n",
        "- **base** nos da acceso a Toolbox y base Fitness;\n",
        "- **creator** nos permite crear nuestros tipos;\n",
        "- **tools** nos da acceso al banco de operadores;\n",
        "- **algorithms** nos permite algunos ciclos evolutivos genéricos."
      ],
      "metadata": {
        "id": "W5VORSm2CunI"
      }
    },
    {
      "cell_type": "code",
      "source": [
        "%pip install deap"
      ],
      "metadata": {
        "colab": {
          "base_uri": "https://localhost:8080/"
        },
        "id": "zqWi_gWWE2ZV",
        "outputId": "053a8479-69b5-4f94-9c1a-78443411f2fb"
      },
      "execution_count": null,
      "outputs": [
        {
          "output_type": "stream",
          "name": "stdout",
          "text": [
            "Collecting deap\n",
            "  Downloading deap-1.3.3-cp310-cp310-manylinux_2_5_x86_64.manylinux1_x86_64.manylinux_2_17_x86_64.manylinux2014_x86_64.whl (139 kB)\n",
            "\u001b[?25l     \u001b[90m━━━━━━━━━━━━━━━━━━━━━━━━━━━━━━━━━━━━━━━━\u001b[0m \u001b[32m0.0/139.9 kB\u001b[0m \u001b[31m?\u001b[0m eta \u001b[36m-:--:--\u001b[0m\r\u001b[2K     \u001b[90m━━━━━━━━━━━━━━━━━━━━━━━━━━━━━━━━━━━━━━━\u001b[0m \u001b[32m139.9/139.9 kB\u001b[0m \u001b[31m7.1 MB/s\u001b[0m eta \u001b[36m0:00:00\u001b[0m\n",
            "\u001b[?25hRequirement already satisfied: numpy in /usr/local/lib/python3.10/dist-packages (from deap) (1.22.4)\n",
            "Installing collected packages: deap\n",
            "Successfully installed deap-1.3.3\n"
          ]
        }
      ]
    },
    {
      "cell_type": "code",
      "source": [
        "import random\n",
        "from deap import base, creator, tools, algorithms"
      ],
      "metadata": {
        "id": "raG3z4GNCtnk"
      },
      "execution_count": null,
      "outputs": []
    },
    {
      "cell_type": "markdown",
      "source": [
        "# Creación de tipos\n",
        "El primer paso con DEAP es crear los tipos requeridos. Por lo general, los tipos creados son el fitness y el individuo. Para el problema de OneMax, queremos tener una solución con tantos **1s** como sea posible. Por lo tanto, necesitamos un estado físico que se **maximice** y un individuo que sea un contenedor ordenado, en forma de \"list\". La creación de tipos se realiza llamando a la función **create**. Esta función toma dos argumentos obligatorios y argumentos opcionales adicionales. El primer argumento es el nombre real del tipo que queremos crear. El segundo argumento es la clase base de la que debe heredar el nuevo tipo creado. Finalmente, los argumentos opcionales son miembros para agregar al nuevo tipo."
      ],
      "metadata": {
        "id": "maC0O2CJFPAJ"
      }
    },
    {
      "cell_type": "code",
      "source": [
        "creator.create(\"FitnessMax\", base.Fitness, weights=(1.0,))\n",
        "creator.create(\"Individual\", list, fitness=creator.FitnessMax)"
      ],
      "metadata": {
        "id": "RQXscQVAHMa4"
      },
      "execution_count": null,
      "outputs": []
    },
    {
      "cell_type": "markdown",
      "source": [
        "La primera línea pasa las propiedades de la base.Fitness a FitnessMax donde se maximizará la actitud, tomando como referencia el atributo de pesos (1.0,). La segunda línea crea una clase Individual que hereda las propiedades de lista y adquiere el atributo del tipo FitnessMax que se acaba de crear. Los pesos (así como el valor devuelto de la evaluación) son **siempre requeridos** para ser iterables. Podemos instanciar directamente objetos de la clase creada como sigue. Este paso no es necesario en un algoritmo, la instanciación se automatizará más adelante."
      ],
      "metadata": {
        "id": "7l1rLcaDJSli"
      }
    },
    {
      "cell_type": "code",
      "source": [
        "ind = creator.Individual([1, 0, 1, 1, 0])\n",
        "\n",
        "print(ind)\n",
        "print(type(ind))\n",
        "print(type(ind.fitness))"
      ],
      "metadata": {
        "colab": {
          "base_uri": "https://localhost:8080/"
        },
        "id": "Z1XWSK6GLOEN",
        "outputId": "4836e15a-af05-47d4-f633-6bd0552a0598"
      },
      "execution_count": null,
      "outputs": [
        {
          "output_type": "stream",
          "name": "stdout",
          "text": [
            "[1, 0, 1, 1, 0]\n",
            "<class 'deap.creator.Individual'>\n",
            "<class 'deap.creator.FitnessMax'>\n"
          ]
        }
      ]
    },
    {
      "cell_type": "markdown",
      "source": [
        "# Toolbox\n",
        "La caja de herramientas está destinada a almacenar funciones con sus argumentos bajo un alias estándar para usar en el algoritmo. Las funciones se registran mediante una llamada de función con dos argumentos obligatorios, el alias para dar a la función y la función con la que se asociará. Cualquier argumento adicional se dará como argumento cuando se llame al alias."
      ],
      "metadata": {
        "id": "3TniOpjOLeza"
      }
    },
    {
      "cell_type": "code",
      "source": [
        "toolbox = base.Toolbox()\n",
        "toolbox.register(\"attr_bool\", random.randint, 0, 1)\n",
        "toolbox.register(\"individualCreator\", tools.initRepeat, creator.Individual, toolbox.attr_bool, n=10)\n",
        "toolbox.register(\"populationCreator\", tools.initRepeat, list, toolbox.individualCreator)"
      ],
      "metadata": {
        "id": "mgkP8iy3LlLL"
      },
      "execution_count": null,
      "outputs": []
    },
    {
      "cell_type": "markdown",
      "source": [
        "En el último bloque de código creamos el objeto **toolbox** y registramos tres funciones: Primero, **attr_bool**, que llama a randint desde el módulo aleatorio con argumentos **(0, 1)** para crear un entero en el intervalo\n",
        ". La segunda función, **individualCreator**, cuando se llame, usará la función initRepeat disponible en el módulo de herramientas para llenar una clase Individual con lo que se produce mediante 10 llamadas a la función attr_bool previamente definida. Lo mismo se hace para la función populationCreator. Por ejemplo, llamar a cada función individualmente muestra cómo procede."
      ],
      "metadata": {
        "id": "ttQIQC44NEc9"
      }
    },
    {
      "cell_type": "code",
      "source": [
        "bit = toolbox.attr_bool()\n",
        "ind = toolbox.individualCreator()\n",
        "pop = toolbox.populationCreator(n=3)\n",
        "\n",
        "print(\"bit es de tipo %s y tiene valor\\n%s\" % (type(bit), bit))\n",
        "print(\"ind es de tipo %s y contiene %d bits\\n%s\" % (type(ind), len(ind), ind))\n",
        "print(\"pop es de tipo %s y contiene %d individuos\\n%s\" % (type(pop), len(pop), pop))"
      ],
      "metadata": {
        "colab": {
          "base_uri": "https://localhost:8080/"
        },
        "id": "GSuEnQWBYeA6",
        "outputId": "77cbd8c3-7d25-41ed-f90c-0e5809626ff8"
      },
      "execution_count": null,
      "outputs": [
        {
          "output_type": "stream",
          "name": "stdout",
          "text": [
            "bit es de tipo <class 'int'> y tiene valor\n",
            "1\n",
            "ind es de tipo <class 'deap.creator.Individual'> y contiene 10 bits\n",
            "[0, 1, 1, 0, 0, 0, 1, 1, 1, 0]\n",
            "pop es de tipo <class 'list'> y contiene 3 individuos\n",
            "[[1, 0, 1, 1, 0, 1, 0, 1, 1, 0], [0, 1, 0, 1, 0, 1, 1, 1, 0, 1], [0, 0, 1, 1, 0, 1, 0, 1, 1, 0]]\n"
          ]
        }
      ]
    },
    {
      "cell_type": "markdown",
      "source": [
        "# Evaluación de la Función\n",
        "La función de evaluación es bastante simple para el problema OneMax, necesitamos contar el número de unos en un individuo. Recordamos aquí que el valor devuelto debe ser un iterable de longitud igual al número de objetivos (pesos)."
      ],
      "metadata": {
        "id": "pk_fkrHNYobi"
      }
    },
    {
      "cell_type": "code",
      "source": [
        "def evalOneMax(individualCreator):\n",
        "    return sum(individualCreator),"
      ],
      "metadata": {
        "id": "QrE_OdKyYn6W"
      },
      "execution_count": null,
      "outputs": []
    },
    {
      "cell_type": "markdown",
      "source": [
        "# Operadores Genéticos\n",
        "El registro de los operadores y sus argumentos predeterminados en la caja de herramientas se realiza de la siguiente manera."
      ],
      "metadata": {
        "id": "ochHsNbqY0-J"
      }
    },
    {
      "cell_type": "code",
      "source": [
        "toolbox.register(\"evaluate\", evalOneMax)\n",
        "\n",
        "# Single-point crossover:\n",
        "toolbox.register(\"mate\", tools.cxTwoPoint)\n",
        "\n",
        "# Mutación Flip-bit:\n",
        "# indpb: Probabilidad independiente de que cada atributo sea invertido\n",
        "toolbox.register(\"mutate\", tools.mutFlipBit, indpb=0.10)\n",
        "\n",
        "# Selección de torneo con tamaño de torneo de 3:\n",
        "toolbox.register(\"select\", tools.selTournament, tournsize=3)"
      ],
      "metadata": {
        "id": "XqA6lIGVZpZI"
      },
      "execution_count": null,
      "outputs": []
    },
    {
      "cell_type": "markdown",
      "source": [
        "La evaluación recibe el alias **evaluate**. Teniendo un solo argumento siendo el individuo a evaluar, no necesitamos corregir ninguno, el individuo se dará más adelante en el algoritmo. La función de cruce de dos puntos se registra de la misma manera bajo el alias **mate**. La mutación, por su parte, necesita un argumento para ser fijado (la probabilidad independiente de que cada atributo sea mutado **indpb**). En los algoritmos, la función **mutate()** se llama con la firma **toolbox.mutate(mutant)**. Esta es la forma más conveniente porque cada mutación toma una cantidad diferente de argumentos, tener esos argumentos fijos en la caja de herramientas deja abiertas la mayoría de las posibilidades para cambiar el operador de mutación (cruce, selección o evaluación) más adelante en sus investigaciones. Finalmente, el operador de selección se registra con el nombre **select** y el tamaño del torneo se establece en 3. Con esto, podemos mutar a un individuo y esperar que se invierta el 10% de sus atributos."
      ],
      "metadata": {
        "id": "2aUzC-lIZyp9"
      }
    },
    {
      "cell_type": "code",
      "source": [
        "ind = toolbox.individualCreator()\n",
        "print(ind)\n",
        "toolbox.mutate(ind)\n",
        "print(ind)"
      ],
      "metadata": {
        "colab": {
          "base_uri": "https://localhost:8080/"
        },
        "id": "GjPlVq-9aGOl",
        "outputId": "f3a094ef-fd38-40c7-9d64-47f100f7c93f"
      },
      "execution_count": null,
      "outputs": [
        {
          "output_type": "stream",
          "name": "stdout",
          "text": [
            "[0, 0, 0, 1, 1, 1, 0, 1, 0, 0]\n",
            "[0, 0, 0, 1, 0, 1, 1, 1, 1, 0]\n"
          ]
        }
      ]
    },
    {
      "cell_type": "markdown",
      "source": [
        "Los operadores ejecutan su comportamiento sobre los individuos en el lugar, lo que significa que si el individuo no se copia antes de modificarse, el antiguo individuo se pierde. La copia de un individuo se realiza con la función **clone** disponible en cada caja de herramientas."
      ],
      "metadata": {
        "id": "zlfX47IxaX9E"
      }
    },
    {
      "cell_type": "code",
      "source": [
        "mutant = toolbox.clone(ind)\n",
        "print(mutant is ind)\n",
        "print(mutant == ind)"
      ],
      "metadata": {
        "colab": {
          "base_uri": "https://localhost:8080/"
        },
        "id": "F3ZCAlSkaeDb",
        "outputId": "7080ec14-9986-45ce-87a3-aad85ac58dac"
      },
      "execution_count": null,
      "outputs": [
        {
          "output_type": "stream",
          "name": "stdout",
          "text": [
            "False\n",
            "True\n"
          ]
        }
      ]
    },
    {
      "cell_type": "markdown",
      "source": [
        "# Evolución de la población\n",
        "El programa principal es muy simple. Consiste en generar una población, y dársela al algoritmo para que evolucione una solución. Aquí emplearemos algunas herramientas de introspección útiles, como las estadísticas y el Salón de la fama (**HallOfFame**). Las estadísticas se calculan utilizando funciones \"numpy\" sobre la población, y el salón de la fama realiza un seguimiento de los mejores individuos que han aparecido durante la evolución. El algoritmo toma como argumentos, entre otros, la población y la caja de herramientas. Una vez finalizada la evolución la población contiene los individuos de la última generación."
      ],
      "metadata": {
        "id": "eQrGlWfBa4dc"
      }
    },
    {
      "cell_type": "code",
      "source": [
        "def main():\n",
        "    import numpy\n",
        "\n",
        "    pop = toolbox.populationCreator(n=50)\n",
        "    hof = tools.HallOfFame(1)\n",
        "    stats = tools.Statistics(lambda ind: ind.fitness.values)\n",
        "    stats.register(\"avg\", numpy.mean)\n",
        "    stats.register(\"min\", numpy.min)\n",
        "    stats.register(\"max\", numpy.max)\n",
        "\n",
        "    pop, logbook = algorithms.eaSimple(pop, toolbox, cxpb=0.5, mutpb=0.2, ngen=10, stats=stats, halloffame=hof, verbose=True)\n",
        "\n",
        "    return pop, logbook, hof"
      ],
      "metadata": {
        "id": "u_GC1ehua7za"
      },
      "execution_count": null,
      "outputs": []
    },
    {
      "cell_type": "markdown",
      "source": [
        "A continuación, protegemos nuestra llamada a la función principal y lanzamos la evolución, el argumento detallado indica que se generan las estadísticas en cada generación. Podemos imprimir y trazar los datos devueltos."
      ],
      "metadata": {
        "id": "WKMGuvslbC2N"
      }
    },
    {
      "cell_type": "code",
      "source": [
        "if __name__ == \"__main__\":\n",
        "    pop, log, hof = main()\n",
        "    print(\"El mejor individuo es: %s\\ncon rendimiento-fitness: %s\" % (hof[0], hof[0].fitness))\n",
        "\n",
        "    import matplotlib.pyplot as plt\n",
        "    gen, avg, min_, max_ = log.select(\"gen\", \"avg\", \"min\", \"max\")\n",
        "    plt.plot(gen, avg, label=\"average\")\n",
        "    plt.plot(gen, min_, label=\"minimum\")\n",
        "    plt.plot(gen, max_, label=\"maximum\")\n",
        "    plt.xlabel(\"Generacion\")\n",
        "    plt.ylabel(\"rendimiento-Fitness\")\n",
        "    plt.legend(loc=\"lower right\")\n",
        "    plt.show()"
      ],
      "metadata": {
        "id": "O6KDgkbvbDd-",
        "outputId": "5287bb93-fe61-4d14-9478-b2c26bd8acd1",
        "colab": {
          "base_uri": "https://localhost:8080/",
          "height": 692
        }
      },
      "execution_count": null,
      "outputs": [
        {
          "output_type": "stream",
          "name": "stdout",
          "text": [
            "gen\tnevals\tavg \tmin\tmax\n",
            "0  \t50    \t5.16\t2  \t9  \n",
            "1  \t33    \t6.32\t4  \t9  \n",
            "2  \t35    \t6.98\t3  \t9  \n",
            "3  \t25    \t7.5 \t4  \t10 \n",
            "4  \t30    \t8.14\t6  \t10 \n",
            "5  \t28    \t8.66\t7  \t10 \n",
            "6  \t28    \t9.18\t6  \t10 \n",
            "7  \t32    \t9.52\t8  \t10 \n",
            "8  \t27    \t9.82\t8  \t10 \n",
            "9  \t27    \t9.72\t7  \t10 \n",
            "10 \t31    \t9.86\t7  \t10 \n",
            "El mejor individuo es: [1, 1, 1, 1, 1, 1, 1, 1, 1, 1]\n",
            "con rendimiento-fitness: (10.0,)\n"
          ]
        },
        {
          "output_type": "display_data",
          "data": {
            "text/plain": [
              "<Figure size 640x480 with 1 Axes>"
            ],
            "image/png": "[encoded data removed]"
          },
          "metadata": {}
        }
      ]
    }
  ]
}